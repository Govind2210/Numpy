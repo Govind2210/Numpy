{
 "cells": [
  {
   "cell_type": "code",
   "execution_count": 68,
   "id": "0f4ffb07",
   "metadata": {},
   "outputs": [],
   "source": [
    "import numpy as np"
   ]
  },
  {
   "cell_type": "code",
   "execution_count": 69,
   "id": "e260c634",
   "metadata": {},
   "outputs": [
    {
     "name": "stdout",
     "output_type": "stream",
     "text": [
      "1.20.1\n",
      "blas_mkl_info:\n",
      "    libraries = ['mkl_rt']\n",
      "    library_dirs = ['C:/anaconda\\\\Library\\\\lib']\n",
      "    define_macros = [('SCIPY_MKL_H', None), ('HAVE_CBLAS', None)]\n",
      "    include_dirs = ['C:/anaconda\\\\Library\\\\include']\n",
      "blas_opt_info:\n",
      "    libraries = ['mkl_rt']\n",
      "    library_dirs = ['C:/anaconda\\\\Library\\\\lib']\n",
      "    define_macros = [('SCIPY_MKL_H', None), ('HAVE_CBLAS', None)]\n",
      "    include_dirs = ['C:/anaconda\\\\Library\\\\include']\n",
      "lapack_mkl_info:\n",
      "    libraries = ['mkl_rt']\n",
      "    library_dirs = ['C:/anaconda\\\\Library\\\\lib']\n",
      "    define_macros = [('SCIPY_MKL_H', None), ('HAVE_CBLAS', None)]\n",
      "    include_dirs = ['C:/anaconda\\\\Library\\\\include']\n",
      "lapack_opt_info:\n",
      "    libraries = ['mkl_rt']\n",
      "    library_dirs = ['C:/anaconda\\\\Library\\\\lib']\n",
      "    define_macros = [('SCIPY_MKL_H', None), ('HAVE_CBLAS', None)]\n",
      "    include_dirs = ['C:/anaconda\\\\Library\\\\include']\n"
     ]
    }
   ],
   "source": [
    "#Print the numpy version and the configuration\n",
    "\n",
    "print(np.__version__)\n",
    "np.show_config()"
   ]
  },
  {
   "cell_type": "code",
   "execution_count": 70,
   "id": "b887e5f4",
   "metadata": {},
   "outputs": [
    {
     "data": {
      "text/plain": [
       "array([0., 0., 0., 0., 0., 0., 0., 0., 0., 0.])"
      ]
     },
     "execution_count": 70,
     "metadata": {},
     "output_type": "execute_result"
    }
   ],
   "source": [
    "#Create a null vector of size 10\n",
    "\n",
    "a = np.zeros(10)\n",
    "a"
   ]
  },
  {
   "cell_type": "code",
   "execution_count": 71,
   "id": "bef5fcf2",
   "metadata": {},
   "outputs": [
    {
     "name": "stdout",
     "output_type": "stream",
     "text": [
      "800 bytes\n"
     ]
    }
   ],
   "source": [
    "#How to find the memory size of any array\n",
    "\n",
    "z= np.zeros((10,10))\n",
    "print(\"%d bytes\" %(z.size*z.itemsize))"
   ]
  },
  {
   "cell_type": "code",
   "execution_count": 72,
   "id": "e4810a04",
   "metadata": {},
   "outputs": [
    {
     "name": "stdout",
     "output_type": "stream",
     "text": [
      "[0. 0. 0. 0. 1. 0. 0. 0. 0. 0.]\n"
     ]
    }
   ],
   "source": [
    "#  Create a null vector of size 10 but the fifth value which is 1\n",
    "z =np.zeros(10)\n",
    "z[4]=1\n",
    "print(z)"
   ]
  },
  {
   "cell_type": "code",
   "execution_count": 73,
   "id": "c3a29be6",
   "metadata": {},
   "outputs": [
    {
     "data": {
      "text/plain": [
       "array([10, 11, 12, 13, 14, 15, 16, 17, 18, 19, 20, 21, 22, 23, 24, 25, 26,\n",
       "       27, 28, 29, 30, 31, 32, 33, 34, 35, 36, 37, 38, 39, 40, 41, 42, 43,\n",
       "       44, 45, 46, 47, 48, 49])"
      ]
     },
     "execution_count": 73,
     "metadata": {},
     "output_type": "execute_result"
    }
   ],
   "source": [
    "#Create a vector with values ranging from 10 to 49\n",
    "\n",
    "a = np.arange(10,50)\n",
    "a"
   ]
  },
  {
   "cell_type": "code",
   "execution_count": 74,
   "id": "da09b66c",
   "metadata": {},
   "outputs": [
    {
     "name": "stdout",
     "output_type": "stream",
     "text": [
      "[49 48 47 46 45 44 43 42 41 40 39 38 37 36 35 34 33 32 31 30 29 28 27 26\n",
      " 25 24 23 22 21 20 19 18 17 16 15 14 13 12 11 10]\n"
     ]
    }
   ],
   "source": [
    "#Reverse a vector (first element becomes last)\n",
    "\n",
    "a = a[::-1]\n",
    "print(a)"
   ]
  },
  {
   "cell_type": "code",
   "execution_count": 75,
   "id": "f272f852",
   "metadata": {},
   "outputs": [
    {
     "data": {
      "text/plain": [
       "array([[0, 1, 2],\n",
       "       [3, 4, 5],\n",
       "       [6, 7, 8]])"
      ]
     },
     "execution_count": 75,
     "metadata": {},
     "output_type": "execute_result"
    }
   ],
   "source": [
    "# Create a 3x3 matrix with values ranging from 0 to 8\n",
    "\n",
    "a = np.arange(9).reshape(3,3)\n",
    "a"
   ]
  },
  {
   "cell_type": "code",
   "execution_count": 76,
   "id": "8704b2ae",
   "metadata": {},
   "outputs": [
    {
     "name": "stdout",
     "output_type": "stream",
     "text": [
      "(array([0, 1, 4], dtype=int64),)\n"
     ]
    }
   ],
   "source": [
    "#Find indices of non-zero elements from [1,2,0,0,4,0] \n",
    "a = [1,2,0,0,4,0] \n",
    "nz =np.nonzero(a)\n",
    "print(nz)"
   ]
  },
  {
   "cell_type": "code",
   "execution_count": 77,
   "id": "2e3461d8",
   "metadata": {},
   "outputs": [
    {
     "data": {
      "text/plain": [
       "array([[1., 0., 0.],\n",
       "       [0., 1., 0.],\n",
       "       [0., 0., 1.]])"
      ]
     },
     "execution_count": 77,
     "metadata": {},
     "output_type": "execute_result"
    }
   ],
   "source": [
    "#Create a 3x3 identity matrix\n",
    "\n",
    "a = np.eye(3)\n",
    "a"
   ]
  },
  {
   "cell_type": "code",
   "execution_count": 78,
   "id": "2158eee6",
   "metadata": {},
   "outputs": [
    {
     "name": "stdout",
     "output_type": "stream",
     "text": [
      "[[[0.86559324 0.4309363  0.39669067]\n",
      "  [0.22984886 0.42800869 0.69859882]\n",
      "  [0.3757688  0.98397437 0.90107181]]\n",
      "\n",
      " [[0.81990339 0.22875173 0.17076761]\n",
      "  [0.18093172 0.12069124 0.45526449]\n",
      "  [0.58116352 0.50452791 0.07067939]]\n",
      "\n",
      " [[0.28294693 0.84266992 0.35473044]\n",
      "  [0.97271737 0.94057739 0.31297583]\n",
      "  [0.39080724 0.9610085  0.3924792 ]]]\n"
     ]
    }
   ],
   "source": [
    "#Create a 3x3x3 array with random values \n",
    "\n",
    "a = np.random.random((3,3,3))\n",
    "print(a)"
   ]
  },
  {
   "cell_type": "code",
   "execution_count": 79,
   "id": "4f192ae4",
   "metadata": {},
   "outputs": [
    {
     "data": {
      "text/plain": [
       "array([[0.49922243, 0.08613872, 0.73566971, 0.58372428, 0.67915783,\n",
       "        0.29776633, 0.72659641, 0.31568165, 0.96783009, 0.67751902],\n",
       "       [0.48586685, 0.48380863, 0.80473322, 0.5757669 , 0.05103068,\n",
       "        0.87885096, 0.34239132, 0.63741238, 0.77150916, 0.95880334],\n",
       "       [0.67826482, 0.36679913, 0.1418555 , 0.25745382, 0.58720328,\n",
       "        0.67749824, 0.24370389, 0.12046112, 0.92486833, 0.51216566],\n",
       "       [0.93101078, 0.65425884, 0.20943541, 0.46318946, 0.38225319,\n",
       "        0.22346603, 0.57201757, 0.66238746, 0.75158924, 0.65847866],\n",
       "       [0.48992183, 0.74629391, 0.46066357, 0.69685504, 0.88294272,\n",
       "        0.57730629, 0.14994695, 0.23980027, 0.27888212, 0.21363823],\n",
       "       [0.02094883, 0.59169496, 0.21454872, 0.97140895, 0.85591169,\n",
       "        0.83434405, 0.11443143, 0.0173785 , 0.68570638, 0.79523087],\n",
       "       [0.05910948, 0.64192708, 0.15408075, 0.17503937, 0.18309967,\n",
       "        0.4527058 , 0.68135408, 0.20581047, 0.50492428, 0.77718669],\n",
       "       [0.92919795, 0.1013103 , 0.44383688, 0.72020471, 0.98348305,\n",
       "        0.83828251, 0.90356621, 0.54727047, 0.49289584, 0.94807311],\n",
       "       [0.43557523, 0.98601681, 0.33480695, 0.80597598, 0.13921781,\n",
       "        0.32571506, 0.11532133, 0.46511163, 0.76223046, 0.1260514 ],\n",
       "       [0.80331156, 0.14264479, 0.797302  , 0.83188987, 0.15101505,\n",
       "        0.97123976, 0.7630951 , 0.44140463, 0.68584385, 0.12484084]])"
      ]
     },
     "execution_count": 79,
     "metadata": {},
     "output_type": "execute_result"
    }
   ],
   "source": [
    "#Create a 10x10 array with random values and find the minimum and maximum values\n",
    "\n",
    "a = np.random.random((10,10))\n",
    "a\n"
   ]
  },
  {
   "cell_type": "code",
   "execution_count": 80,
   "id": "2da93bbd",
   "metadata": {},
   "outputs": [
    {
     "data": {
      "text/plain": [
       "0.0173785000030362"
      ]
     },
     "execution_count": 80,
     "metadata": {},
     "output_type": "execute_result"
    }
   ],
   "source": [
    "a.min()"
   ]
  },
  {
   "cell_type": "code",
   "execution_count": 81,
   "id": "d2363ccb",
   "metadata": {},
   "outputs": [
    {
     "data": {
      "text/plain": [
       "0.9860168149060737"
      ]
     },
     "execution_count": 81,
     "metadata": {},
     "output_type": "execute_result"
    }
   ],
   "source": [
    "a.max()"
   ]
  },
  {
   "cell_type": "code",
   "execution_count": 82,
   "id": "43432ef5",
   "metadata": {},
   "outputs": [
    {
     "data": {
      "text/plain": [
       "array([0.29052427, 0.79533738, 0.49570227, 0.18967513, 0.86028551,\n",
       "       0.16252425, 0.82684799, 0.60620998, 0.87106806, 0.1988237 ,\n",
       "       0.83785831, 0.5348938 , 0.46618355, 0.19558265, 0.70297428,\n",
       "       0.8920078 , 0.26273207, 0.33987708, 0.0049939 , 0.10678751,\n",
       "       0.8730004 , 0.25647434, 0.58231998, 0.779347  , 0.46700428,\n",
       "       0.13713353, 0.59954777, 0.08838666, 0.73278653, 0.06436776])"
      ]
     },
     "execution_count": 82,
     "metadata": {},
     "output_type": "execute_result"
    }
   ],
   "source": [
    "#Create a random vector of size 30 and find the mean value\n",
    "\n",
    "b = np.random.random(30)\n",
    "b"
   ]
  },
  {
   "cell_type": "code",
   "execution_count": 83,
   "id": "8388406b",
   "metadata": {},
   "outputs": [
    {
     "data": {
      "text/plain": [
       "0.47404192509575616"
      ]
     },
     "execution_count": 83,
     "metadata": {},
     "output_type": "execute_result"
    }
   ],
   "source": [
    "np.mean(b)"
   ]
  },
  {
   "cell_type": "code",
   "execution_count": 84,
   "id": "3208c1d6",
   "metadata": {},
   "outputs": [
    {
     "name": "stdout",
     "output_type": "stream",
     "text": [
      "[[1. 1. 1. 1. 1. 1. 1. 1. 1. 1.]\n",
      " [1. 0. 0. 0. 0. 0. 0. 0. 0. 1.]\n",
      " [1. 0. 0. 0. 0. 0. 0. 0. 0. 1.]\n",
      " [1. 0. 0. 0. 0. 0. 0. 0. 0. 1.]\n",
      " [1. 0. 0. 0. 0. 0. 0. 0. 0. 1.]\n",
      " [1. 0. 0. 0. 0. 0. 0. 0. 0. 1.]\n",
      " [1. 0. 0. 0. 0. 0. 0. 0. 0. 1.]\n",
      " [1. 0. 0. 0. 0. 0. 0. 0. 0. 1.]\n",
      " [1. 0. 0. 0. 0. 0. 0. 0. 0. 1.]\n",
      " [1. 1. 1. 1. 1. 1. 1. 1. 1. 1.]]\n"
     ]
    }
   ],
   "source": [
    "# Create a 2d array with 1 on the border and 0 inside\n",
    "\n",
    "a = np.ones((10,10))\n",
    "a[1:-1,1:-1] = 0\n",
    "print(a)"
   ]
  },
  {
   "cell_type": "code",
   "execution_count": 85,
   "id": "bea18aac",
   "metadata": {},
   "outputs": [
    {
     "name": "stdout",
     "output_type": "stream",
     "text": [
      "[[0. 0. 0. 0. 0. 0. 0.]\n",
      " [0. 1. 1. 1. 1. 1. 0.]\n",
      " [0. 1. 1. 1. 1. 1. 0.]\n",
      " [0. 1. 1. 1. 1. 1. 0.]\n",
      " [0. 1. 1. 1. 1. 1. 0.]\n",
      " [0. 1. 1. 1. 1. 1. 0.]\n",
      " [0. 0. 0. 0. 0. 0. 0.]]\n"
     ]
    }
   ],
   "source": [
    "#How to add a border (filled with 0's) around an existing array?\n",
    "\n",
    "Z = np.ones((5,5))\n",
    "Z = np.pad(Z, pad_width=1, mode='constant', constant_values=0)\n",
    "print(Z)"
   ]
  },
  {
   "cell_type": "code",
   "execution_count": 86,
   "id": "844a5f97",
   "metadata": {},
   "outputs": [
    {
     "data": {
      "text/plain": [
       "False"
      ]
     },
     "execution_count": 86,
     "metadata": {},
     "output_type": "execute_result"
    }
   ],
   "source": [
    "#What is the result of the following expression?\n",
    "\n",
    "0 * np.nan\n",
    "np.nan == np.nan\n",
    "np.inf > np.nan\n",
    "np.nan - np.nan\n",
    "np.nan in set([np.nan])\n",
    "0.3 == 3 * 0.1"
   ]
  },
  {
   "cell_type": "code",
   "execution_count": 87,
   "id": "77f2d373",
   "metadata": {},
   "outputs": [
    {
     "name": "stdout",
     "output_type": "stream",
     "text": [
      "[[0. 0. 0. 0. 0. 0. 0.]\n",
      " [0. 1. 1. 1. 1. 1. 0.]\n",
      " [0. 1. 1. 1. 1. 1. 0.]\n",
      " [0. 1. 1. 1. 1. 1. 0.]\n",
      " [0. 1. 1. 1. 1. 1. 0.]\n",
      " [0. 1. 1. 1. 1. 1. 0.]\n",
      " [0. 0. 0. 0. 0. 0. 0.]]\n"
     ]
    }
   ],
   "source": [
    "Z[:, [0, -1]] = 0\n",
    "Z[[0, -1], :] = 0\n",
    "print(Z)"
   ]
  },
  {
   "cell_type": "code",
   "execution_count": 88,
   "id": "1a57f30d",
   "metadata": {},
   "outputs": [
    {
     "name": "stdout",
     "output_type": "stream",
     "text": [
      "[[0 0 0 0 0]\n",
      " [1 0 0 0 0]\n",
      " [0 2 0 0 0]\n",
      " [0 0 3 0 0]\n",
      " [0 0 0 4 0]]\n"
     ]
    }
   ],
   "source": [
    "#Create a 5x5 matrix with values 1,2,3,4 just below the diagona\n",
    "\n",
    "a = np.diag(1+np.arange(4),k=-1)\n",
    "print(a)"
   ]
  },
  {
   "cell_type": "code",
   "execution_count": 89,
   "id": "6841a4b5",
   "metadata": {},
   "outputs": [
    {
     "name": "stdout",
     "output_type": "stream",
     "text": [
      "[[0 1 0 1 0 1 0 1]\n",
      " [1 0 1 0 1 0 1 0]\n",
      " [0 1 0 1 0 1 0 1]\n",
      " [1 0 1 0 1 0 1 0]\n",
      " [0 1 0 1 0 1 0 1]\n",
      " [1 0 1 0 1 0 1 0]\n",
      " [0 1 0 1 0 1 0 1]\n",
      " [1 0 1 0 1 0 1 0]]\n"
     ]
    }
   ],
   "source": [
    "#Create a 8x8 matrix and fill it with a checkerboard pattern\n",
    "\n",
    "a = np.zeros((8,8),dtype = int)\n",
    "a[1::2,::2] = 1\n",
    "a[::2,1::2] = 1\n",
    "print(a)"
   ]
  },
  {
   "cell_type": "code",
   "execution_count": 90,
   "id": "23371f20",
   "metadata": {},
   "outputs": [
    {
     "name": "stdout",
     "output_type": "stream",
     "text": [
      "(1, 5, 3)\n"
     ]
    }
   ],
   "source": [
    "#Consider a (6,7,8) shape array, what is the index (x,y,z) of the 100th element?\n",
    "\n",
    "print(np.unravel_index(99,(6,7,8)))"
   ]
  },
  {
   "cell_type": "code",
   "execution_count": 91,
   "id": "5c63585b",
   "metadata": {},
   "outputs": [
    {
     "name": "stdout",
     "output_type": "stream",
     "text": [
      "[[0 1 0 1 0 1 0 1]\n",
      " [1 0 1 0 1 0 1 0]\n",
      " [0 1 0 1 0 1 0 1]\n",
      " [1 0 1 0 1 0 1 0]\n",
      " [0 1 0 1 0 1 0 1]\n",
      " [1 0 1 0 1 0 1 0]\n",
      " [0 1 0 1 0 1 0 1]\n",
      " [1 0 1 0 1 0 1 0]]\n"
     ]
    }
   ],
   "source": [
    "#21. Create a checkerboard 8x8 matrix using the tile function\n",
    "\n",
    "Z = np.tile( np.array([[0,1],[1,0]]), (4,4))\n",
    "print(Z)"
   ]
  },
  {
   "cell_type": "code",
   "execution_count": 92,
   "id": "dc9a253b",
   "metadata": {},
   "outputs": [
    {
     "name": "stdout",
     "output_type": "stream",
     "text": [
      "[[3. 3.]\n",
      " [3. 3.]\n",
      " [3. 3.]\n",
      " [3. 3.]\n",
      " [3. 3.]]\n"
     ]
    }
   ],
   "source": [
    "#24. Multiply a 5x3 matrix by a 3x2 matrix (real matrix product)\n",
    "\n",
    "z =np.dot(np.ones((5,3)),np.ones((3,2)))\n",
    "print(z)\n"
   ]
  },
  {
   "cell_type": "code",
   "execution_count": 93,
   "id": "6949c546",
   "metadata": {},
   "outputs": [
    {
     "name": "stdout",
     "output_type": "stream",
     "text": [
      "[0 1 2 3 4 5 6 7]\n"
     ]
    }
   ],
   "source": [
    "#Given a 1D array, negate all elements which are between 3 and 8, in place\n",
    "\n",
    "z = np.arange(8)\n",
    "z[(3<3)&(z<8)]*=-1\n",
    "print(z)"
   ]
  },
  {
   "cell_type": "code",
   "execution_count": 94,
   "id": "558467bb",
   "metadata": {},
   "outputs": [
    {
     "name": "stdout",
     "output_type": "stream",
     "text": [
      "['2016-07-01' '2016-07-02' '2016-07-03' '2016-07-04' '2016-07-05'\n",
      " '2016-07-06' '2016-07-07' '2016-07-08' '2016-07-09' '2016-07-10'\n",
      " '2016-07-11' '2016-07-12' '2016-07-13' '2016-07-14' '2016-07-15'\n",
      " '2016-07-16' '2016-07-17' '2016-07-18' '2016-07-19' '2016-07-20'\n",
      " '2016-07-21' '2016-07-22' '2016-07-23' '2016-07-24' '2016-07-25'\n",
      " '2016-07-26' '2016-07-27' '2016-07-28' '2016-07-29' '2016-07-30'\n",
      " '2016-07-31']\n"
     ]
    }
   ],
   "source": [
    "#How to get all the dates corresponding to the month of July 2016?\n",
    "\n",
    "a= np.arange('2016-07','2016-08',dtype='datetime64[D]')\n",
    "print(a)"
   ]
  },
  {
   "cell_type": "code",
   "execution_count": 95,
   "id": "1f1d445c",
   "metadata": {},
   "outputs": [
    {
     "data": {
      "text/plain": [
       "array([-1.5, -1.5, -1.5])"
      ]
     },
     "execution_count": 95,
     "metadata": {},
     "output_type": "execute_result"
    }
   ],
   "source": [
    " #35. How to compute ((A+B)*(-A/2)) in place (without copy)?\n",
    "\n",
    "A = np.ones(3)*1\n",
    "B = np.ones(3)*2\n",
    "np.add(A,B,out=B)\n",
    "np.divide(A,2,out=A)\n",
    "np.negative(A,out=A)\n",
    "np.multiply(A,B,out=A)    "
   ]
  },
  {
   "cell_type": "code",
   "execution_count": 96,
   "id": "ac7e6794",
   "metadata": {},
   "outputs": [
    {
     "name": "stdout",
     "output_type": "stream",
     "text": [
      "[4. 9. 8. 8. 2. 6. 9. 0. 4. 4.]\n",
      "[4. 9. 8. 8. 2. 6. 9. 0. 4. 4.]\n",
      "[4. 9. 8. 8. 2. 6. 9. 0. 4. 4.]\n",
      "[4 9 8 8 2 6 9 0 4 4]\n",
      "[4. 9. 8. 8. 2. 6. 9. 0. 4. 4.]\n"
     ]
    }
   ],
   "source": [
    "#36. Extract the integer part of a random array of positive numbers using 4 different methods\n",
    "\n",
    "Z = np.random.uniform(0,10,10)\n",
    "print(Z - Z%1)\n",
    "print(Z // 1)\n",
    "print(np.floor(Z))\n",
    "print(Z.astype(int))\n",
    "print(np.trunc(Z))\n"
   ]
  },
  {
   "cell_type": "code",
   "execution_count": 97,
   "id": "54091e5c",
   "metadata": {},
   "outputs": [
    {
     "name": "stdout",
     "output_type": "stream",
     "text": [
      "[[0. 1. 2. 3. 4.]\n",
      " [0. 1. 2. 3. 4.]\n",
      " [0. 1. 2. 3. 4.]\n",
      " [0. 1. 2. 3. 4.]\n",
      " [0. 1. 2. 3. 4.]]\n"
     ]
    }
   ],
   "source": [
    "#37. Create a 5x5 matrix with row values ranging from 0 to 4\n",
    "\n",
    "b = np.zeros((5,5))\n",
    "b += np.arange(5)\n",
    "print(b)"
   ]
  },
  {
   "cell_type": "code",
   "execution_count": 98,
   "id": "b438cd15",
   "metadata": {},
   "outputs": [
    {
     "name": "stdout",
     "output_type": "stream",
     "text": [
      "[0.09090909 0.18181818 0.27272727 0.36363636 0.45454545 0.54545455\n",
      " 0.63636364 0.72727273 0.81818182 0.90909091]\n"
     ]
    }
   ],
   "source": [
    "#39. Create a vector of size 10 with values ranging from 0 to 1, both excluded\n",
    "\n",
    "Z = np.linspace(0,1,11,endpoint=False)[1:]\n",
    "print(Z)"
   ]
  },
  {
   "cell_type": "code",
   "execution_count": 99,
   "id": "1b51e97e",
   "metadata": {},
   "outputs": [
    {
     "name": "stdout",
     "output_type": "stream",
     "text": [
      "[0.08050978 0.16549106 0.40698005 0.4187683  0.63312459 0.71109158\n",
      " 0.79249644 0.80443421 0.85889083 0.93278106]\n"
     ]
    }
   ],
   "source": [
    "#40. Create a random vector of size 10 and sort it \n",
    "a = np.random.random(10)\n",
    "a.sort()\n",
    "print(a)"
   ]
  },
  {
   "cell_type": "code",
   "execution_count": 100,
   "id": "295aa3c7",
   "metadata": {},
   "outputs": [
    {
     "data": {
      "text/plain": [
       "45"
      ]
     },
     "execution_count": 100,
     "metadata": {},
     "output_type": "execute_result"
    }
   ],
   "source": [
    "#41. How to sum a small array faster than np.sum? \n",
    "\n",
    "z = np.arange(10)\n",
    "np.add.reduce(z)"
   ]
  },
  {
   "cell_type": "code",
   "execution_count": 101,
   "id": "0e2c11bf",
   "metadata": {},
   "outputs": [
    {
     "name": "stdout",
     "output_type": "stream",
     "text": [
      "equal\n"
     ]
    }
   ],
   "source": [
    "#42. Consider two random array A and B, check if they are equal\n",
    "\n",
    "a = np.random.randint(0,2,5)\n",
    "b = np.random.randint(0,2,5)\n",
    "\n",
    "equal = np.allclose(a,b)\n",
    "print('equal')"
   ]
  },
  {
   "cell_type": "code",
   "execution_count": 102,
   "id": "6d913860",
   "metadata": {},
   "outputs": [
    {
     "name": "stdout",
     "output_type": "stream",
     "text": [
      "[0.29164422 0.00395633 0.10912886 0.14944447 0.05004517 0.54374072\n",
      " 0.         0.40399719 0.52830191 0.1657036 ]\n"
     ]
    }
   ],
   "source": [
    "#45. Create random vector of size 10 and replace the maximum value by 0\n",
    "\n",
    "a = np.random.random(10)\n",
    "a[a.argmax()]=0\n",
    "print(a)"
   ]
  },
  {
   "cell_type": "code",
   "execution_count": 103,
   "id": "4cc34cd6",
   "metadata": {},
   "outputs": [
    {
     "ename": "SyntaxError",
     "evalue": "invalid syntax (<ipython-input-103-52181a59243e>, line 3)",
     "output_type": "error",
     "traceback": [
      "\u001b[1;36m  File \u001b[1;32m\"<ipython-input-103-52181a59243e>\"\u001b[1;36m, line \u001b[1;32m3\u001b[0m\n\u001b[1;33m    e = np.random.rand(10)*100.astype(np.float32)\u001b[0m\n\u001b[1;37m                               ^\u001b[0m\n\u001b[1;31mSyntaxError\u001b[0m\u001b[1;31m:\u001b[0m invalid syntax\n"
     ]
    }
   ],
   "source": [
    "#53. How to convert a float (32 bits) array into an integer (32 bits) \n",
    "\n",
    "e = np.random.rand(10)*100.astype(np.float32)\n",
    "Y = e.view(np.int32)\n",
    "Y[:] = Z\n",
    "print(Y)"
   ]
  },
  {
   "cell_type": "raw",
   "id": "be6f0106",
   "metadata": {},
   "source": [
    "#### 100. Compute bootstrapped 95% confidence intervals for the mean of a 1D array X (i.e., resample the elements of an array with replacement N times, compute the mean of each sample, and then compute percentiles over the means). (★★★)\n"
   ]
  },
  {
   "cell_type": "code",
   "execution_count": 105,
   "id": "30b9c85c",
   "metadata": {},
   "outputs": [
    {
     "name": "stdout",
     "output_type": "stream",
     "text": [
      "[-0.24566572  0.12252964]\n"
     ]
    }
   ],
   "source": [
    "X = np.random.randn(100) # random 1D array\n",
    "N = 1000 # number of bootstrap samples\n",
    "idx = np.random.randint(0, X.size, (N, X.size))\n",
    "means = X[idx].mean(axis=1)\n",
    "confint = np.percentile(means, [2.5, 97.5])\n",
    "print(confint)"
   ]
  },
  {
   "cell_type": "code",
   "execution_count": 106,
   "id": "335591a6",
   "metadata": {},
   "outputs": [
    {
     "data": {
      "text/plain": [
       "array([[0.03363016, 0.24781419, 0.07542059, 0.74943684, 0.05536269,\n",
       "        0.8164543 , 0.95945308, 0.741186  , 0.57113361, 0.39395702],\n",
       "       [0.00706361, 0.0520504 , 0.01584119, 0.15741024, 0.01162827,\n",
       "        0.17148645, 0.20152163, 0.15567725, 0.11995978, 0.08274596],\n",
       "       [0.00522819, 0.03852557, 0.011725  , 0.11650858, 0.00860677,\n",
       "        0.12692721, 0.14915801, 0.11522589, 0.08878929, 0.06124515],\n",
       "       [0.00992359, 0.073125  , 0.0222551 , 0.22114379, 0.01633642,\n",
       "        0.24091929, 0.28311537, 0.21870913, 0.16853008, 0.11624882],\n",
       "       [0.02906456, 0.21417122, 0.06518158, 0.64769415, 0.04784671,\n",
       "        0.70561339, 0.82919882, 0.64056342, 0.49359715, 0.34047386],\n",
       "       [0.0050134 , 0.03694281, 0.0112433 , 0.11172203, 0.00825317,\n",
       "        0.12171264, 0.14303013, 0.11049204, 0.08514154, 0.058729  ],\n",
       "       [0.02533934, 0.18672077, 0.05682722, 0.56467882, 0.04171417,\n",
       "        0.61517451, 0.72291993, 0.55846204, 0.43033252, 0.29683513],\n",
       "       [0.01912583, 0.14093455, 0.04289249, 0.42621265, 0.03148535,\n",
       "        0.46432618, 0.5456511 , 0.4215203 , 0.32480971, 0.22404752],\n",
       "       [0.00638964, 0.04708404, 0.01432971, 0.14239101, 0.01051876,\n",
       "        0.15512415, 0.18229354, 0.14082337, 0.10851387, 0.07485079],\n",
       "       [0.02132111, 0.15711117, 0.04781574, 0.47513381, 0.03509927,\n",
       "        0.51762206, 0.60828154, 0.46990288, 0.36209174, 0.24976394]])"
      ]
     },
     "execution_count": 106,
     "metadata": {},
     "output_type": "execute_result"
    }
   ],
   "source": [
    "##### 97. Considering 2 vectors A & B, write the einsum equivalent of inner, outer, sum, and mul function (★★★)\n",
    "\n",
    "A = np.random.uniform(0,1,10)\n",
    "B = np.random.uniform(0,1,10)\n",
    "\n",
    "np.einsum('i->', A)       # np.sum(A)\n",
    "np.einsum('i,i->i', A, B) # A * B\n",
    "np.einsum('i,i', A, B)    # np.inner(A, B)\n",
    "np.einsum('i,j->ij', A, B)    # np.outer(A, B)"
   ]
  },
  {
   "cell_type": "code",
   "execution_count": 107,
   "id": "e8424c60",
   "metadata": {},
   "outputs": [
    {
     "name": "stdout",
     "output_type": "stream",
     "text": [
      "[[0 0 0]\n",
      " [1 0 1]\n",
      " [1 1 0]\n",
      " [1 1 1]]\n"
     ]
    }
   ],
   "source": [
    "##### 96. Given a two dimensional array, how to extract unique rows? (★★★)\n",
    "\n",
    "Z = np.random.randint(0,2,(6,3))\n",
    "T = np.ascontiguousarray(Z).view(np.dtype((np.void, Z.dtype.itemsize * Z.shape[1])))\n",
    "_, idx = np.unique(T, return_index=True)\n",
    "uZ = Z[idx]\n",
    "print(uZ)"
   ]
  },
  {
   "cell_type": "code",
   "execution_count": 108,
   "id": "83b3f9fc",
   "metadata": {},
   "outputs": [
    {
     "name": "stdout",
     "output_type": "stream",
     "text": [
      "[[2 0 3]\n",
      " [2 4 2]\n",
      " [3 2 2]\n",
      " [4 1 3]\n",
      " [4 3 3]\n",
      " [3 4 3]\n",
      " [4 3 0]\n",
      " [1 1 2]\n",
      " [3 0 2]\n",
      " [0 3 0]]\n",
      "[[2 0 3]\n",
      " [2 4 2]\n",
      " [3 2 2]\n",
      " [4 1 3]\n",
      " [4 3 3]\n",
      " [3 4 3]\n",
      " [4 3 0]\n",
      " [1 1 2]\n",
      " [3 0 2]\n",
      " [0 3 0]]\n",
      "[[2 0 3]\n",
      " [2 4 2]\n",
      " [3 2 2]\n",
      " [4 1 3]\n",
      " [4 3 3]\n",
      " [3 4 3]\n",
      " [4 3 0]\n",
      " [1 1 2]\n",
      " [3 0 2]\n",
      " [0 3 0]]\n"
     ]
    }
   ],
   "source": [
    "#### 94. Considering a 10x3 matrix, extract rows with unequal values (e.g. [2,2,3]) (★★★)\n",
    "\n",
    "Z = np.random.randint(0,5,(10,3))\n",
    "print(Z)\n",
    "# solution for arrays of all dtypes (including string arrays and record arrays)\n",
    "E = np.all(Z[:,1:] == Z[:,:-1], axis=1)\n",
    "U = Z[~E]\n",
    "print(U)\n",
    "# soluiton for numerical arrays only, will work for any number of columns in Z\n",
    "U = Z[Z.max(axis=1) != Z.min(axis=1),:]\n",
    "print(U)"
   ]
  },
  {
   "cell_type": "code",
   "execution_count": null,
   "id": "3e673fa7",
   "metadata": {},
   "outputs": [],
   "source": []
  }
 ],
 "metadata": {
  "kernelspec": {
   "display_name": "Python 3",
   "language": "python",
   "name": "python3"
  },
  "language_info": {
   "codemirror_mode": {
    "name": "ipython",
    "version": 3
   },
   "file_extension": ".py",
   "mimetype": "text/x-python",
   "name": "python",
   "nbconvert_exporter": "python",
   "pygments_lexer": "ipython3",
   "version": "3.8.8"
  }
 },
 "nbformat": 4,
 "nbformat_minor": 5
}
